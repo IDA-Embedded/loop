{
 "cells": [
  {
   "cell_type": "markdown",
   "id": "e6ef44bb-53c4-4d72-b725-05ae320b5381",
   "metadata": {},
   "source": [
    "# Welcome to TinyML part 2: Data prep, model, train, and validate \n",
    "## This is an interactive Jupyter notebook where you can run the Python code that we have prepared interactively.\n",
    "## Below you will find cells that are either code or description.  \n"
   ]
  },
  {
   "cell_type": "code",
   "execution_count": 1,
   "id": "2ec38bdc-9417-4446-bdba-2a5f4cdf711c",
   "metadata": {},
   "outputs": [
    {
     "name": "stdout",
     "output_type": "stream",
     "text": [
      "hello\n",
      "3.10.12 (main, Nov 20 2023, 15:14:05) [GCC 11.4.0]\n"
     ]
    }
   ],
   "source": [
    "print('hello')\n",
    "import sys\n",
    "print(sys.version)"
   ]
  },
  {
   "cell_type": "markdown",
   "id": "dc6fed77-ff5f-459b-931f-652a266ae0c0",
   "metadata": {},
   "source": [
    "# Lets get started \n",
    "## Import libraries that we need to prep data, work with a model, train and validate the results "
   ]
  },
  {
   "cell_type": "markdown",
   "id": "65052d2d-dca3-47a6-ab81-39ece156110f",
   "metadata": {},
   "source": [
    "## Install requrements "
   ]
  },
  {
   "cell_type": "code",
   "execution_count": 3,
   "id": "c2db6026-26f0-4ae4-a97e-e790d48a005e",
   "metadata": {},
   "outputs": [
    {
     "name": "stdout",
     "output_type": "stream",
     "text": [
      "Defaulting to user installation because normal site-packages is not writeable\n",
      "Requirement already satisfied: numpy in /home/jakobsen/.local/lib/python3.10/site-packages (from -r requirements.txt (line 1)) (1.26.2)\n",
      "Requirement already satisfied: keras in /home/jakobsen/.local/lib/python3.10/site-packages (from -r requirements.txt (line 2)) (2.15.0)\n",
      "Requirement already satisfied: tensorflow in /home/jakobsen/.local/lib/python3.10/site-packages (from -r requirements.txt (line 3)) (2.15.0)\n",
      "Requirement already satisfied: matplotlib in /home/jakobsen/.local/lib/python3.10/site-packages (from -r requirements.txt (line 4)) (3.7.1)\n",
      "Requirement already satisfied: pandas in /home/jakobsen/.local/lib/python3.10/site-packages (from -r requirements.txt (line 5)) (2.0.3)\n",
      "Requirement already satisfied: scipy in /usr/lib/python3/dist-packages (from -r requirements.txt (line 6)) (1.8.0)\n",
      "Requirement already satisfied: tflite in /home/jakobsen/.local/lib/python3.10/site-packages (from -r requirements.txt (line 7)) (2.10.0)\n",
      "Requirement already satisfied: gast!=0.5.0,!=0.5.1,!=0.5.2,>=0.2.1 in /home/jakobsen/.local/lib/python3.10/site-packages (from tensorflow->-r requirements.txt (line 3)) (0.5.4)\n",
      "Requirement already satisfied: flatbuffers>=23.5.26 in /home/jakobsen/.local/lib/python3.10/site-packages (from tensorflow->-r requirements.txt (line 3)) (23.5.26)\n",
      "Requirement already satisfied: absl-py>=1.0.0 in /home/jakobsen/.local/lib/python3.10/site-packages (from tensorflow->-r requirements.txt (line 3)) (2.0.0)\n",
      "Requirement already satisfied: ml-dtypes~=0.2.0 in /home/jakobsen/.local/lib/python3.10/site-packages (from tensorflow->-r requirements.txt (line 3)) (0.2.0)\n",
      "Requirement already satisfied: typing-extensions>=3.6.6 in /home/jakobsen/.local/lib/python3.10/site-packages (from tensorflow->-r requirements.txt (line 3)) (4.7.0)\n",
      "Requirement already satisfied: tensorboard<2.16,>=2.15 in /home/jakobsen/.local/lib/python3.10/site-packages (from tensorflow->-r requirements.txt (line 3)) (2.15.1)\n",
      "Requirement already satisfied: libclang>=13.0.0 in /home/jakobsen/.local/lib/python3.10/site-packages (from tensorflow->-r requirements.txt (line 3)) (16.0.6)\n",
      "Requirement already satisfied: grpcio<2.0,>=1.24.3 in /home/jakobsen/.local/lib/python3.10/site-packages (from tensorflow->-r requirements.txt (line 3)) (1.54.0)\n",
      "Requirement already satisfied: wrapt<1.15,>=1.11.0 in /home/jakobsen/.local/lib/python3.10/site-packages (from tensorflow->-r requirements.txt (line 3)) (1.14.1)\n",
      "Requirement already satisfied: astunparse>=1.6.0 in /home/jakobsen/.local/lib/python3.10/site-packages (from tensorflow->-r requirements.txt (line 3)) (1.6.3)\n",
      "Requirement already satisfied: packaging in /home/jakobsen/.local/lib/python3.10/site-packages (from tensorflow->-r requirements.txt (line 3)) (23.1)\n",
      "Requirement already satisfied: setuptools in /usr/lib/python3/dist-packages (from tensorflow->-r requirements.txt (line 3)) (59.6.0)\n",
      "Requirement already satisfied: tensorflow-estimator<2.16,>=2.15.0 in /home/jakobsen/.local/lib/python3.10/site-packages (from tensorflow->-r requirements.txt (line 3)) (2.15.0)\n",
      "Requirement already satisfied: protobuf!=4.21.0,!=4.21.1,!=4.21.2,!=4.21.3,!=4.21.4,!=4.21.5,<5.0.0dev,>=3.20.3 in /home/jakobsen/.local/lib/python3.10/site-packages (from tensorflow->-r requirements.txt (line 3)) (4.23.0)\n",
      "Requirement already satisfied: tensorflow-io-gcs-filesystem>=0.23.1 in /home/jakobsen/.local/lib/python3.10/site-packages (from tensorflow->-r requirements.txt (line 3)) (0.34.0)\n",
      "Requirement already satisfied: h5py>=2.9.0 in /home/jakobsen/.local/lib/python3.10/site-packages (from tensorflow->-r requirements.txt (line 3)) (3.10.0)\n",
      "Requirement already satisfied: six>=1.12.0 in /usr/lib/python3/dist-packages (from tensorflow->-r requirements.txt (line 3)) (1.16.0)\n",
      "Requirement already satisfied: termcolor>=1.1.0 in /home/jakobsen/.local/lib/python3.10/site-packages (from tensorflow->-r requirements.txt (line 3)) (2.3.0)\n",
      "Requirement already satisfied: opt-einsum>=2.3.2 in /home/jakobsen/.local/lib/python3.10/site-packages (from tensorflow->-r requirements.txt (line 3)) (3.3.0)\n",
      "Requirement already satisfied: google-pasta>=0.1.1 in /home/jakobsen/.local/lib/python3.10/site-packages (from tensorflow->-r requirements.txt (line 3)) (0.2.0)\n",
      "Requirement already satisfied: pillow>=6.2.0 in /usr/lib/python3/dist-packages (from matplotlib->-r requirements.txt (line 4)) (9.0.1)\n",
      "Requirement already satisfied: fonttools>=4.22.0 in /home/jakobsen/.local/lib/python3.10/site-packages (from matplotlib->-r requirements.txt (line 4)) (4.40.0)\n",
      "Requirement already satisfied: python-dateutil>=2.7 in /home/jakobsen/.local/lib/python3.10/site-packages (from matplotlib->-r requirements.txt (line 4)) (2.8.2)\n",
      "Requirement already satisfied: cycler>=0.10 in /home/jakobsen/.local/lib/python3.10/site-packages (from matplotlib->-r requirements.txt (line 4)) (0.11.0)\n",
      "Requirement already satisfied: kiwisolver>=1.0.1 in /home/jakobsen/.local/lib/python3.10/site-packages (from matplotlib->-r requirements.txt (line 4)) (1.4.4)\n",
      "Requirement already satisfied: pyparsing>=2.3.1 in /usr/lib/python3/dist-packages (from matplotlib->-r requirements.txt (line 4)) (2.4.7)\n",
      "Requirement already satisfied: contourpy>=1.0.1 in /home/jakobsen/.local/lib/python3.10/site-packages (from matplotlib->-r requirements.txt (line 4)) (1.1.0)\n",
      "Requirement already satisfied: tzdata>=2022.1 in /home/jakobsen/.local/lib/python3.10/site-packages (from pandas->-r requirements.txt (line 5)) (2023.3)\n",
      "Requirement already satisfied: pytz>=2020.1 in /usr/lib/python3/dist-packages (from pandas->-r requirements.txt (line 5)) (2022.1)\n",
      "Requirement already satisfied: wheel<1.0,>=0.23.0 in /usr/lib/python3/dist-packages (from astunparse>=1.6.0->tensorflow->-r requirements.txt (line 3)) (0.37.1)\n",
      "Requirement already satisfied: markdown>=2.6.8 in /usr/lib/python3/dist-packages (from tensorboard<2.16,>=2.15->tensorflow->-r requirements.txt (line 3)) (3.3.6)\n",
      "Requirement already satisfied: werkzeug>=1.0.1 in /home/jakobsen/.local/lib/python3.10/site-packages (from tensorboard<2.16,>=2.15->tensorflow->-r requirements.txt (line 3)) (3.0.1)\n",
      "Requirement already satisfied: tensorboard-data-server<0.8.0,>=0.7.0 in /home/jakobsen/.local/lib/python3.10/site-packages (from tensorboard<2.16,>=2.15->tensorflow->-r requirements.txt (line 3)) (0.7.2)\n",
      "Requirement already satisfied: google-auth<3,>=1.6.3 in /home/jakobsen/.local/lib/python3.10/site-packages (from tensorboard<2.16,>=2.15->tensorflow->-r requirements.txt (line 3)) (2.23.4)\n",
      "Requirement already satisfied: requests<3,>=2.21.0 in /home/jakobsen/.local/lib/python3.10/site-packages (from tensorboard<2.16,>=2.15->tensorflow->-r requirements.txt (line 3)) (2.31.0)\n",
      "Requirement already satisfied: google-auth-oauthlib<2,>=0.5 in /home/jakobsen/.local/lib/python3.10/site-packages (from tensorboard<2.16,>=2.15->tensorflow->-r requirements.txt (line 3)) (1.1.0)\n",
      "Requirement already satisfied: pyasn1-modules>=0.2.1 in /home/jakobsen/.local/lib/python3.10/site-packages (from google-auth<3,>=1.6.3->tensorboard<2.16,>=2.15->tensorflow->-r requirements.txt (line 3)) (0.3.0)\n",
      "Requirement already satisfied: rsa<5,>=3.1.4 in /home/jakobsen/.local/lib/python3.10/site-packages (from google-auth<3,>=1.6.3->tensorboard<2.16,>=2.15->tensorflow->-r requirements.txt (line 3)) (4.9)\n",
      "Requirement already satisfied: cachetools<6.0,>=2.0.0 in /home/jakobsen/.local/lib/python3.10/site-packages (from google-auth<3,>=1.6.3->tensorboard<2.16,>=2.15->tensorflow->-r requirements.txt (line 3)) (5.3.1)\n",
      "Requirement already satisfied: requests-oauthlib>=0.7.0 in /home/jakobsen/.local/lib/python3.10/site-packages (from google-auth-oauthlib<2,>=0.5->tensorboard<2.16,>=2.15->tensorflow->-r requirements.txt (line 3)) (1.3.1)\n",
      "Requirement already satisfied: idna<4,>=2.5 in /usr/lib/python3/dist-packages (from requests<3,>=2.21.0->tensorboard<2.16,>=2.15->tensorflow->-r requirements.txt (line 3)) (3.3)\n",
      "Requirement already satisfied: urllib3<3,>=1.21.1 in /usr/lib/python3/dist-packages (from requests<3,>=2.21.0->tensorboard<2.16,>=2.15->tensorflow->-r requirements.txt (line 3)) (1.26.5)\n",
      "Requirement already satisfied: certifi>=2017.4.17 in /usr/lib/python3/dist-packages (from requests<3,>=2.21.0->tensorboard<2.16,>=2.15->tensorflow->-r requirements.txt (line 3)) (2020.6.20)\n",
      "Requirement already satisfied: charset-normalizer<4,>=2 in /home/jakobsen/.local/lib/python3.10/site-packages (from requests<3,>=2.21.0->tensorboard<2.16,>=2.15->tensorflow->-r requirements.txt (line 3)) (3.2.0)\n",
      "Requirement already satisfied: MarkupSafe>=2.1.1 in /home/jakobsen/.local/lib/python3.10/site-packages (from werkzeug>=1.0.1->tensorboard<2.16,>=2.15->tensorflow->-r requirements.txt (line 3)) (2.1.3)\n",
      "Requirement already satisfied: pyasn1<0.6.0,>=0.4.6 in /home/jakobsen/.local/lib/python3.10/site-packages (from pyasn1-modules>=0.2.1->google-auth<3,>=1.6.3->tensorboard<2.16,>=2.15->tensorflow->-r requirements.txt (line 3)) (0.5.1)\n",
      "Requirement already satisfied: oauthlib>=3.0.0 in /usr/lib/python3/dist-packages (from requests-oauthlib>=0.7.0->google-auth-oauthlib<2,>=0.5->tensorboard<2.16,>=2.15->tensorflow->-r requirements.txt (line 3)) (3.2.0)\n",
      "Note: you may need to restart the kernel to use updated packages.\n"
     ]
    }
   ],
   "source": [
    "pip install -r requirements.txt"
   ]
  },
  {
   "cell_type": "code",
   "execution_count": 4,
   "id": "1cade59e-813d-4674-8fca-31b69f84e15b",
   "metadata": {},
   "outputs": [
    {
     "name": "stderr",
     "output_type": "stream",
     "text": [
      "2023-11-30 08:25:00.002286: I external/local_tsl/tsl/cuda/cudart_stub.cc:31] Could not find cuda drivers on your machine, GPU will not be used.\n",
      "2023-11-30 08:25:00.049697: E external/local_xla/xla/stream_executor/cuda/cuda_dnn.cc:9261] Unable to register cuDNN factory: Attempting to register factory for plugin cuDNN when one has already been registered\n",
      "2023-11-30 08:25:00.049726: E external/local_xla/xla/stream_executor/cuda/cuda_fft.cc:607] Unable to register cuFFT factory: Attempting to register factory for plugin cuFFT when one has already been registered\n",
      "2023-11-30 08:25:00.050725: E external/local_xla/xla/stream_executor/cuda/cuda_blas.cc:1515] Unable to register cuBLAS factory: Attempting to register factory for plugin cuBLAS when one has already been registered\n",
      "2023-11-30 08:25:00.056425: I external/local_tsl/tsl/cuda/cudart_stub.cc:31] Could not find cuda drivers on your machine, GPU will not be used.\n",
      "2023-11-30 08:25:00.056858: I tensorflow/core/platform/cpu_feature_guard.cc:182] This TensorFlow binary is optimized to use available CPU instructions in performance-critical operations.\n",
      "To enable the following instructions: AVX2 FMA, in other operations, rebuild TensorFlow with the appropriate compiler flags.\n",
      "2023-11-30 08:25:00.909880: W tensorflow/compiler/tf2tensorrt/utils/py_utils.cc:38] TF-TRT Warning: Could not find TensorRT\n",
      "/usr/lib/python3/dist-packages/scipy/__init__.py:146: UserWarning: A NumPy version >=1.17.3 and <1.25.0 is required for this version of SciPy (detected version 1.26.2\n",
      "  warnings.warn(f\"A NumPy version >={np_minversion} and <{np_maxversion}\"\n"
     ]
    }
   ],
   "source": [
    "import os\n",
    "import keras\n",
    "import utils.calc_mem\n",
    "from keras.models import Sequential\n",
    "from keras.layers import Dense, Conv1D, Flatten\n",
    "from matplotlib import pyplot as plt\n",
    "\n",
    "from preprocess import *"
   ]
  },
  {
   "cell_type": "markdown",
   "id": "0466642c-60a7-4374-ab5e-19e12fef2d31",
   "metadata": {},
   "source": [
    "## setup the TensorFlow environment"
   ]
  },
  {
   "cell_type": "code",
   "execution_count": 5,
   "id": "dc5c7f3b-ac53-4c5f-ab38-0605a469a095",
   "metadata": {},
   "outputs": [],
   "source": [
    "# Minimize TensorFlow logging\n",
    "os.environ['TF_CPP_MIN_LOG_LEVEL'] = '2'\n",
    "import tensorflow as tf\n",
    "tf.get_logger().setLevel('ERROR')"
   ]
  },
  {
   "cell_type": "markdown",
   "id": "191eb472-f9cb-436c-81a2-bf7c9cd23375",
   "metadata": {},
   "source": [
    "# Load and preprocess data"
   ]
  },
  {
   "cell_type": "code",
   "execution_count": 6,
   "id": "8da3017b-bd8e-42dd-8ed6-28b9272cb051",
   "metadata": {},
   "outputs": [
    {
     "name": "stdout",
     "output_type": "stream",
     "text": [
      "Preprocessing audio_1.wav and labels_1.txt\n",
      "Preprocessing audio_2.wav and labels_2.txt\n"
     ]
    }
   ],
   "source": [
    "# Load and preprocess data\n",
    "data_dir = '../Data/'\n",
    "x_files = []\n",
    "y_files = []\n",
    "for c_file in os.listdir('../Data/'):\n",
    "    if c_file.startswith('audio_') and c_file.endswith('.wav'):\n",
    "        recording_id = c_file[6:-4]\n",
    "        label_file = 'labels_' + recording_id + '.txt'\n",
    "        print('Preprocessing ' + c_file + ' and ' + label_file)\n",
    "        x_file, y_file = preprocess(data_dir + c_file, data_dir + label_file)\n",
    "        x_files.append(x_file)\n",
    "        y_files.append(y_file)"
   ]
  },
  {
   "cell_type": "markdown",
   "id": "a29fb764-951b-48c3-8d8b-e4741fb16152",
   "metadata": {},
   "source": [
    "# Concatenate files into feature and label arrays"
   ]
  },
  {
   "cell_type": "code",
   "execution_count": 7,
   "id": "95371464-f64c-4792-b9c3-cf9ef2b776d8",
   "metadata": {},
   "outputs": [],
   "source": [
    "x = np.concatenate(x_files)\n",
    "y = np.concatenate(y_files)"
   ]
  },
  {
   "cell_type": "markdown",
   "id": "a6a877df-0560-46cf-a499-735c8cf57b85",
   "metadata": {},
   "source": [
    "# Shuffle data, but only what will become training and validation sets\n",
    "# We will keep the test set as a contiguous sequence for plotting"
   ]
  },
  {
   "cell_type": "code",
   "execution_count": null,
   "id": "0ee30274-f1ec-43bf-a737-1ea6a67b0f74",
   "metadata": {},
   "outputs": [],
   "source": [
    "indices = np.arange(int(.8 * len(x)))\n",
    "np.random.shuffle(indices)\n",
    "indices = np.concatenate((indices, np.arange(int(.8 * len(x)), len(x))))\n",
    "x = x[indices]\n",
    "y = y[indices]"
   ]
  },
  {
   "cell_type": "markdown",
   "id": "7337ebb7-0562-4dd8-a008-ad08bf3e80f3",
   "metadata": {},
   "source": [
    "# Split into training, validation and test sets"
   ]
  },
  {
   "cell_type": "code",
   "execution_count": null,
   "id": "624e3553-f524-4a9a-b288-cb47d54930fb",
   "metadata": {},
   "outputs": [],
   "source": [
    "# Split into training, validation and test sets\n",
    "x_train, x_val, x_test = np.split(x, [int(.6 * len(x)), int(.8 * len(x))])\n",
    "y_train, y_val, y_test = np.split(y, [int(.6 * len(y)), int(.8 * len(y))])"
   ]
  },
  {
   "cell_type": "markdown",
   "id": "fd2f5b42-25ef-4392-b8d0-38f418ba5c43",
   "metadata": {},
   "source": [
    "# Determine class weights"
   ]
  },
  {
   "cell_type": "code",
   "execution_count": null,
   "id": "403eac91-6133-475c-a715-7c41b1982fb2",
   "metadata": {},
   "outputs": [],
   "source": [
    "num_positives = np.sum(y)\n",
    "num_negatives = len(y) - num_positives\n",
    "ratio = num_negatives / num_positives\n",
    "class_weights = {0: 1 / np.sqrt(ratio), 1: np.sqrt(ratio)}  # Divide by sqrt(ratio) to make losses comparable\n",
    "print('Class weights:', class_weights)\n"
   ]
  },
  {
   "cell_type": "markdown",
   "id": "bbe1bc08-4347-4f53-a52b-e5dfca5f9310",
   "metadata": {},
   "source": [
    "# Build and compile model"
   ]
  },
  {
   "cell_type": "code",
   "execution_count": null,
   "id": "2ef03a37-7270-4f48-b096-1b5ca2806aa5",
   "metadata": {},
   "outputs": [],
   "source": [
    "print('Building model...')\n",
    "model = Sequential()\n",
    "model.add(Conv1D(8, 3, activation='relu', input_shape=(WINDOW_SIZE, SPECTRUM_SIZE)))\n",
    "model.add(Conv1D(8, 3, activation='relu'))\n",
    "model.add(Flatten())\n",
    "model.add(Dense(1, activation='sigmoid'))\n",
    "model.compile(optimizer='adam', loss='binary_crossentropy', metrics=['accuracy'])\n"
   ]
  },
  {
   "cell_type": "markdown",
   "id": "8892800a-5ef1-4186-907f-e5c35309c28f",
   "metadata": {},
   "source": [
    "# Train model with early stopping and class weights; save best model"
   ]
  },
  {
   "cell_type": "code",
   "execution_count": null,
   "id": "d3f21a37-673b-4cb0-8219-fcdeb5e0c5df",
   "metadata": {},
   "outputs": [],
   "source": [
    "print('Training model...')\n",
    "early_stopping = keras.callbacks.EarlyStopping(monitor='val_loss', patience=16)\n",
    "model_checkpoint = keras.callbacks.ModelCheckpoint('model.h5', monitor='val_loss', save_best_only=True)\n",
    "model.fit(x_train, y_train, epochs=100, batch_size=128, validation_data=(x_val, y_val), class_weight=class_weights,\n",
    "          callbacks=[early_stopping, model_checkpoint])"
   ]
  },
  {
   "cell_type": "markdown",
   "id": "9f057683-53a2-4705-ad2c-50ff2f48fa79",
   "metadata": {},
   "source": [
    "# Plot learning curves"
   ]
  },
  {
   "cell_type": "code",
   "execution_count": null,
   "id": "de18e52d-d151-4b2f-8990-8c39734f1145",
   "metadata": {},
   "outputs": [],
   "source": [
    "# Plot learning curves\n",
    "plt.figure(figsize=(12, 6))\n",
    "plt.plot(model.history.history['loss'])\n",
    "plt.plot(model.history.history['val_loss'])\n",
    "plt.title('Learning curves')\n",
    "plt.xlabel('Epoch')\n",
    "plt.ylabel('Loss')\n",
    "plt.legend(['Training loss', 'Validation loss'])\n",
    "plt.show()\n"
   ]
  },
  {
   "cell_type": "markdown",
   "id": "7e3db1b4-c08e-4fbc-9fb2-582387126481",
   "metadata": {},
   "source": [
    "# Load best model"
   ]
  },
  {
   "cell_type": "code",
   "execution_count": null,
   "id": "fa66e49e-5705-4fdd-8476-8cf46d844d37",
   "metadata": {},
   "outputs": [],
   "source": [
    "# Load best model\n",
    "model = keras.models.load_model('model.h5')"
   ]
  },
  {
   "cell_type": "code",
   "execution_count": null,
   "id": "11a16997-f7f5-41e3-ae2c-7b9c65a56303",
   "metadata": {},
   "outputs": [],
   "source": []
  }
 ],
 "metadata": {
  "kernelspec": {
   "display_name": "Python 3 (ipykernel)",
   "language": "python",
   "name": "python3"
  },
  "language_info": {
   "codemirror_mode": {
    "name": "ipython",
    "version": 3
   },
   "file_extension": ".py",
   "mimetype": "text/x-python",
   "name": "python",
   "nbconvert_exporter": "python",
   "pygments_lexer": "ipython3",
   "version": "3.10.12"
  }
 },
 "nbformat": 4,
 "nbformat_minor": 5
}
